{
 "cells": [
  {
   "cell_type": "code",
   "execution_count": 1,
   "metadata": {},
   "outputs": [],
   "source": [
    "#import\n",
    "from config import DATAMALL_API_KEY\n",
    "from config import HERE_ROUTE_API_KEY\n",
    "from config import GEMINI_API_KEY"
   ]
  },
  {
   "cell_type": "markdown",
   "metadata": {},
   "source": [
    "## DB - SQLite"
   ]
  },
  {
   "cell_type": "code",
   "execution_count": 2,
   "metadata": {},
   "outputs": [],
   "source": [
    "# import libraries\n",
    "import pandas as pd\n",
    "import sqlite3 as db"
   ]
  },
  {
   "cell_type": "code",
   "execution_count": 3,
   "metadata": {},
   "outputs": [],
   "source": [
    "conn = db.connect('mytestingdatabase.db')\n",
    "cn = conn.cursor()"
   ]
  },
  {
   "cell_type": "code",
   "execution_count": 4,
   "metadata": {},
   "outputs": [
    {
     "name": "stdout",
     "output_type": "stream",
     "text": [
      "Tables created successfully!\n"
     ]
    }
   ],
   "source": [
    "# Define the SQL query to create the gemini_instruction table\n",
    "create_gemini_instruction_query = \"\"\"\n",
    "CREATE TABLE IF NOT EXISTS gemini_instruction (\n",
    "    id INTEGER PRIMARY KEY,\n",
    "    instruction TEXT UNIQUE\n",
    ");\n",
    "\"\"\"\n",
    "\n",
    "# Define the SQL query to create the user_historical_prompt table\n",
    "create_user_historical_prompt_query = \"\"\"\n",
    "CREATE TABLE IF NOT EXISTS user_historical_prompt (\n",
    "    qid INTEGER PRIMARY KEY AUTOINCREMENT,\n",
    "    prompt TEXT\n",
    ");\n",
    "\"\"\"\n",
    "\n",
    "# Define the SQL query to create the api_context_data table\n",
    "create_api_context_data = \"\"\"\n",
    "CREATE TABLE IF NOT EXISTS api_context_data (\n",
    "    qid INTEGER PRIMARY KEY AUTOINCREMENT,\n",
    "    legend TEXT\n",
    ");\n",
    "\"\"\"\n",
    "\n",
    "try:\n",
    "    # Execute the SQL query to create the gemini_instruction table\n",
    "    cn.execute(create_gemini_instruction_query)\n",
    "    \n",
    "    # Execute the SQL query to create the user_historical_prompt table\n",
    "    cn.execute(create_user_historical_prompt_query)\n",
    "\n",
    "    # Execute the SQL query to create the create_api_context_data table\n",
    "    cn.execute(create_api_context_data)\n",
    "    \n",
    "    # Commit the transaction\n",
    "    conn.commit()\n",
    "    \n",
    "    print(\"Tables created successfully!\")\n",
    "except db.OperationalError as e:\n",
    "    print(\"Error occurred:\", e)\n"
   ]
  },
  {
   "cell_type": "code",
   "execution_count": 5,
   "metadata": {},
   "outputs": [
    {
     "name": "stdout",
     "output_type": "stream",
     "text": [
      "[('gemini_instruction',), ('user_historical_prompt',), ('sqlite_sequence',), ('api_context_data',)]\n"
     ]
    }
   ],
   "source": [
    "# Display all tables in db\n",
    "cn.execute(\"SELECT name FROM sqlite_master WHERE type = 'table';\")\n",
    "print(cn.fetchall())"
   ]
  },
  {
   "cell_type": "code",
   "execution_count": 6,
   "metadata": {},
   "outputs": [
    {
     "data": {
      "text/plain": [
       "<sqlite3.Cursor at 0x12c9b349cc0>"
      ]
     },
     "execution_count": 6,
     "metadata": {},
     "output_type": "execute_result"
    }
   ],
   "source": [
    "# insert Important Instructions for Gemini to follow\n",
    "cn.execute(\"INSERT INTO gemini_instruction (instruction) VALUES ('CONTEXT: in singapore, There is a taylor swift concert soon, at a stadium of 100000 people. The concert is sold out, how much more transport do we need? Currently, we have 50 bus prepared. Some people might choose taxis, how much aggregate public services do we need to prepare? Do not use math, just aggregate based on previous data, what are some public transports we need to increase? List out some transport services in Singapore as well')\")\n",
    "cn.execute(\"INSERT INTO gemini_instruction (instruction) VALUES ('Analyse results from the instructions and data provided')\")"
   ]
  },
  {
   "cell_type": "code",
   "execution_count": 7,
   "metadata": {},
   "outputs": [
    {
     "name": "stdout",
     "output_type": "stream",
     "text": [
      "[(1, 'CONTEXT: in singapore, There is a taylor swift concert soon, at a stadium of 100000 people. The concert is sold out, how much more transport do we need? Currently, we have 50 bus prepared. Some people might choose taxis, how much aggregate public services do we need to prepare? Do not use math, just aggregate based on previous data, what are some public transports we need to increase? List out some transport services in Singapore as well'), (2, 'Analyse results from the instructions and data provided')]\n"
     ]
    }
   ],
   "source": [
    "cn.execute(\"SELECT * FROM gemini_instruction;\")\n",
    "print(cn.fetchall())\n",
    "instructions = cn.fetchall()"
   ]
  },
  {
   "cell_type": "code",
   "execution_count": 8,
   "metadata": {},
   "outputs": [],
   "source": [
    "conn.commit()\n",
    "cn.close()\n",
    "conn.close()"
   ]
  },
  {
   "cell_type": "code",
   "execution_count": null,
   "metadata": {},
   "outputs": [],
   "source": []
  },
  {
   "cell_type": "markdown",
   "metadata": {},
   "source": [
    "## Data collection - API"
   ]
  },
  {
   "cell_type": "code",
   "execution_count": 9,
   "metadata": {},
   "outputs": [],
   "source": [
    "# import libraries\n",
    "import requests\n",
    "import json"
   ]
  },
  {
   "cell_type": "markdown",
   "metadata": {},
   "source": [
    "## Bus arrival "
   ]
  },
  {
   "cell_type": "code",
   "execution_count": 10,
   "metadata": {},
   "outputs": [],
   "source": [
    "# create function to call api \n",
    "def call_api_bus_arrival():\n",
    "\n",
    "    # Define the API key and custom headers\n",
    "    api_key = DATAMALL_API_KEY\n",
    "    headers = {\n",
    "        \"AccountKey\": api_key,\n",
    "        \"Accept\": \"application/json\"  # You can add more headers if required\n",
    "    }\n",
    "    parameters = {\n",
    "        \"BusStopCode\": \"80219\"  # bus stop code (National Stadium)\n",
    "    }\n",
    "    \n",
    "    # Make a GET request with the API key, custom headers, and parameters\n",
    "    response = requests.get('http://datamall2.mytransport.sg/ltaodataservice/BusArrivalv2', headers=headers, params=parameters)\n",
    "    \n",
    "    arrival_data = \"null\"\n",
    "\n",
    "    # Check the status code\n",
    "    if response.status_code == 200:\n",
    "        print('Response ok')\n",
    "        arrival_data = response.json()\n",
    "        # Process the response data\n",
    "    else:\n",
    "        print('Failed to fetch data:', response.status_code)\n",
    "    \n",
    "    return str(arrival_data) "
   ]
  },
  {
   "cell_type": "code",
   "execution_count": null,
   "metadata": {},
   "outputs": [],
   "source": []
  },
  {
   "cell_type": "code",
   "execution_count": 11,
   "metadata": {},
   "outputs": [
    {
     "name": "stdout",
     "output_type": "stream",
     "text": [
      "Response ok\n",
      "{'odata.metadata': 'http://datamall2.mytransport.sg/ltaodataservice/$metadata#BusArrivalv2/@Element', 'BusStopCode': '80219', 'Services': [{'ServiceNo': '14', 'Operator': 'SBST', 'NextBus': {'OriginCode': '84009', 'DestinationCode': '17009', 'EstimatedArrival': '2024-03-23T00:31:59+08:00', 'Latitude': '1.3118926666666666', 'Longitude': '103.92264083333333', 'VisitNumber': '1', 'Load': 'SEA', 'Feature': 'WAB', 'Type': 'DD'}, 'NextBus2': {'OriginCode': '', 'DestinationCode': '', 'EstimatedArrival': '', 'Latitude': '', 'Longitude': '', 'VisitNumber': '', 'Load': '', 'Feature': '', 'Type': ''}, 'NextBus3': {'OriginCode': '', 'DestinationCode': '', 'EstimatedArrival': '', 'Latitude': '', 'Longitude': '', 'VisitNumber': '', 'Load': '', 'Feature': '', 'Type': ''}}, {'ServiceNo': '16', 'Operator': 'SBST', 'NextBus': {'OriginCode': '84009', 'DestinationCode': '10009', 'EstimatedArrival': '2024-03-23T00:21:42+08:00', 'Latitude': '1.3095893333333333', 'Longitude': '103.89473316666667', 'VisitNumber': '1', 'Load': 'SEA', 'Feature': 'WAB', 'Type': 'SD'}, 'NextBus2': {'OriginCode': '', 'DestinationCode': '', 'EstimatedArrival': '', 'Latitude': '', 'Longitude': '', 'VisitNumber': '', 'Load': '', 'Feature': '', 'Type': ''}, 'NextBus3': {'OriginCode': '', 'DestinationCode': '', 'EstimatedArrival': '', 'Latitude': '', 'Longitude': '', 'VisitNumber': '', 'Load': '', 'Feature': '', 'Type': ''}}, {'ServiceNo': '70A', 'Operator': 'SBST', 'NextBus': {'OriginCode': '55509', 'DestinationCode': '02171', 'EstimatedArrival': '2024-03-23T00:37:52+08:00', 'Latitude': '1.3515738333333334', 'Longitude': '103.875327', 'VisitNumber': '1', 'Load': 'SEA', 'Feature': 'WAB', 'Type': 'DD'}, 'NextBus2': {'OriginCode': '55509', 'DestinationCode': '02171', 'EstimatedArrival': '2024-03-23T00:39:43+08:00', 'Latitude': '1.3506586666666667', 'Longitude': '103.873362', 'VisitNumber': '1', 'Load': 'SEA', 'Feature': 'WAB', 'Type': 'DD'}, 'NextBus3': {'OriginCode': '', 'DestinationCode': '', 'EstimatedArrival': '', 'Latitude': '', 'Longitude': '', 'VisitNumber': '', 'Load': '', 'Feature': '', 'Type': ''}}]}\n"
     ]
    }
   ],
   "source": [
    "# call function print arrival data\n",
    "arrival_data = call_api_bus_arrival()\n",
    "print(arrival_data)"
   ]
  },
  {
   "cell_type": "code",
   "execution_count": null,
   "metadata": {},
   "outputs": [],
   "source": []
  },
  {
   "cell_type": "code",
   "execution_count": 12,
   "metadata": {},
   "outputs": [],
   "source": [
    "legend = \"\"\"2.1 BUS ARRIVAL\n",
    "URL: http://datamall2.mytransport.sg/ltaodataservice/BusArrivalv2\n",
    "Description: Returns real-time Bus Arrival information of Bus Services at a queried Bus Stop, including Estimated Arrival Time, Estimated Current Location, and Estimated Current Load.\n",
    "Update Frequency: 1 minute\n",
    "\n",
    "Request Parameters:\n",
    "- BusStopCode: Bus stop reference code (Mandatory: Yes, Example: 83139)\n",
    "- ServiceNo: Bus service number (Mandatory: No, Example: 15)\n",
    "\n",
    "Response Attributes:\n",
    "- ServiceNo: Bus service number (Example: 15)\n",
    "- Operator: Public Transport Operator Codes:\n",
    "  - SBST (for SBS Transit)\n",
    "  - SMRT (for SMRT Corporation)\n",
    "  - TTS (for Tower Transit Singapore)\n",
    "  - GAS (for Go Ahead Singapore) (Example: GAS)\n",
    "- NextBus: Structural tags for all bus level attributes of the next oncoming bus\n",
    "- NextBus2: Structural tags for all bus level attributes of the second next oncoming bus\n",
    "- NextBus3: Structural tags for all bus level attributes of the third next oncoming bus\n",
    "  - OriginCode: Reference code of the first bus stop where this bus started its service (Example: 77009)\n",
    "  - DestinationCode: Reference code of the last bus stop where this bus will terminate its service (Example: 77131)\n",
    "  - EstimatedArrival: Date-time of this bus’ estimated time of arrival, expressed in the UTC standard, GMT+8 for Singapore Standard Time (SST) (Example: 2017-04-29T07:20:24+08:00)\n",
    "  - Latitude: Current estimated location coordinates of this bus at point of published data (Example: 1.42117943692586)\n",
    "  - Longitude: Longitude of the current estimated location coordinates (Example: 103.831477233098)\n",
    "  - VisitNumber: Ordinal value of the nth visit of this vehicle at this bus stop; 1=1st visit, 2=2nd visit (Example: 1)\n",
    "  - Load: Current bus occupancy / crowding level:\n",
    "    - SEA (for Seats Available)\n",
    "    - SDA (for Standing Available)\n",
    "    - LSD (for Limited Standing) (Example: SEA)\n",
    "  - Feature: Indicates if bus is wheelchair accessible:\n",
    "    - WAB (Wheelchair Accessible Bus)\n",
    "    - (empty / blank) (Example: WAB)\n",
    "  - Type: Vehicle type:\n",
    "    - SD (for Single Deck)\n",
    "    - DD (for Double Deck)\n",
    "    - BD (for Bendy) (Example: SD)\n",
    "\n",
    "Please note that Bus Arrival data (i.e., all attribute-value pairs above) will only appear on the API when the buses are available.\n",
    "\"\"\""
   ]
  },
  {
   "cell_type": "code",
   "execution_count": 13,
   "metadata": {},
   "outputs": [],
   "source": [
    "# Store in db\n",
    "conn = db.connect('mytestingdatabase.db')\n",
    "cn = conn.cursor()"
   ]
  },
  {
   "cell_type": "code",
   "execution_count": 14,
   "metadata": {},
   "outputs": [
    {
     "data": {
      "text/plain": [
       "<sqlite3.Cursor at 0x12c9b378ac0>"
      ]
     },
     "execution_count": 14,
     "metadata": {},
     "output_type": "execute_result"
    }
   ],
   "source": [
    "# Insert contextual information \n",
    "cn.execute(\"INSERT INTO api_context_data (legend) VALUES (?)\", (legend,))"
   ]
  },
  {
   "cell_type": "code",
   "execution_count": 15,
   "metadata": {},
   "outputs": [
    {
     "name": "stdout",
     "output_type": "stream",
     "text": [
      "[(3, '2.1 BUS ARRIVAL\\nURL: http://datamall2.mytransport.sg/ltaodataservice/BusArrivalv2\\nDescription: Returns real-time Bus Arrival information of Bus Services at a queried Bus Stop, including Estimated Arrival Time, Estimated Current Location, and Estimated Current Load.\\nUpdate Frequency: 1 minute\\n\\nRequest Parameters:\\n- BusStopCode: Bus stop reference code (Mandatory: Yes, Example: 83139)\\n- ServiceNo: Bus service number (Mandatory: No, Example: 15)\\n\\nResponse Attributes:\\n- ServiceNo: Bus service number (Example: 15)\\n- Operator: Public Transport Operator Codes:\\n  - SBST (for SBS Transit)\\n  - SMRT (for SMRT Corporation)\\n  - TTS (for Tower Transit Singapore)\\n  - GAS (for Go Ahead Singapore) (Example: GAS)\\n- NextBus: Structural tags for all bus level attributes of the next oncoming bus\\n- NextBus2: Structural tags for all bus level attributes of the second next oncoming bus\\n- NextBus3: Structural tags for all bus level attributes of the third next oncoming bus\\n  - OriginCode: Reference code of the first bus stop where this bus started its service (Example: 77009)\\n  - DestinationCode: Reference code of the last bus stop where this bus will terminate its service (Example: 77131)\\n  - EstimatedArrival: Date-time of this bus’ estimated time of arrival, expressed in the UTC standard, GMT+8 for Singapore Standard Time (SST) (Example: 2017-04-29T07:20:24+08:00)\\n  - Latitude: Current estimated location coordinates of this bus at point of published data (Example: 1.42117943692586)\\n  - Longitude: Longitude of the current estimated location coordinates (Example: 103.831477233098)\\n  - VisitNumber: Ordinal value of the nth visit of this vehicle at this bus stop; 1=1st visit, 2=2nd visit (Example: 1)\\n  - Load: Current bus occupancy / crowding level:\\n    - SEA (for Seats Available)\\n    - SDA (for Standing Available)\\n    - LSD (for Limited Standing) (Example: SEA)\\n  - Feature: Indicates if bus is wheelchair accessible:\\n    - WAB (Wheelchair Accessible Bus)\\n    - (empty / blank) (Example: WAB)\\n  - Type: Vehicle type:\\n    - SD (for Single Deck)\\n    - DD (for Double Deck)\\n    - BD (for Bendy) (Example: SD)\\n\\nPlease note that Bus Arrival data (i.e., all attribute-value pairs above) will only appear on the API when the buses are available.\\n')]\n"
     ]
    }
   ],
   "source": [
    "cn.execute(\"SELECT * FROM api_context_data;\")\n",
    "print(cn.fetchall())"
   ]
  },
  {
   "cell_type": "code",
   "execution_count": 16,
   "metadata": {},
   "outputs": [],
   "source": [
    "conn.commit()\n",
    "cn.close()\n",
    "conn.close()"
   ]
  },
  {
   "cell_type": "code",
   "execution_count": null,
   "metadata": {},
   "outputs": [],
   "source": []
  },
  {
   "cell_type": "markdown",
   "metadata": {},
   "source": [
    "## Estimated Timing "
   ]
  },
  {
   "cell_type": "code",
   "execution_count": 17,
   "metadata": {},
   "outputs": [],
   "source": [
    "import requests\n",
    "\n",
    "# create function to call api \n",
    "def call_estimated_duration_by_car():\n",
    "\n",
    "    # Define the API key and custom headers\n",
    "    api_key = HERE_ROUTE_API_KEY\n",
    "    parameters = {\n",
    "        \"transportMode\" : \"car\",\n",
    "        \"origin\":\"1.3503458,103.9386226\", # changi airport\n",
    "        \"destination\" : \"1.3036642,103.8722496\", # national stadium \n",
    "        \"apikey\": api_key\n",
    "    }\n",
    "    url = 'https://router.hereapi.com/v8/routes'\n",
    "\n",
    "\n",
    "    \n",
    "    response = requests.get(url, params=parameters)\n",
    "    \n",
    "    arrival_data = \"null\"\n",
    "\n",
    "    # Check the status code\n",
    "    if response.status_code == 200:\n",
    "        print('Response ok')\n",
    "        arrival_data = response.json()\n",
    "        # Process the response data\n",
    "    else:\n",
    "        print('Failed to fetch data:', response.status_code)\n",
    "    \n",
    "    return str(arrival_data) "
   ]
  },
  {
   "cell_type": "code",
   "execution_count": 18,
   "metadata": {},
   "outputs": [
    {
     "name": "stdout",
     "output_type": "stream",
     "text": [
      "Response ok\n",
      "{'routes': [{'id': '685b3c56-40a2-406e-b1a5-cdd319d65630', 'sections': [{'id': '4a161b9a-166e-4882-b0b6-861fc634b306', 'type': 'vehicle', 'departure': {'time': '2024-03-23T00:17:49+08:00', 'place': {'type': 'place', 'location': {'lat': 1.3503663, 'lng': 103.9383721}, 'originalLocation': {'lat': 1.3503457, 'lng': 103.9386226}}}, 'arrival': {'time': '2024-03-23T00:34:59+08:00', 'place': {'type': 'place', 'location': {'lat': 1.30444, 'lng': 103.8721399}, 'originalLocation': {'lat': 1.3036641, 'lng': 103.8722496}}}, 'transport': {'mode': 'car'}}]}]}\n"
     ]
    }
   ],
   "source": [
    "# Call the function\n",
    "duration_data = call_estimated_duration_by_car()\n",
    "print(duration_data)"
   ]
  },
  {
   "cell_type": "markdown",
   "metadata": {},
   "source": [
    "## Data collection - User Queries"
   ]
  },
  {
   "cell_type": "code",
   "execution_count": 19,
   "metadata": {},
   "outputs": [],
   "source": [
    "# sample user query\n",
    "user_prompt = 'What is the estimated time to travel from Changi airport to the national stadium where taylor swift concert is at and which bus should i take?'"
   ]
  },
  {
   "cell_type": "code",
   "execution_count": 20,
   "metadata": {},
   "outputs": [],
   "source": [
    "# Store in db\n",
    "conn = db.connect('mytestingdatabase.db')\n",
    "cn = conn.cursor()"
   ]
  },
  {
   "cell_type": "code",
   "execution_count": 21,
   "metadata": {},
   "outputs": [
    {
     "data": {
      "text/plain": [
       "<sqlite3.Cursor at 0x12c9b5dcdc0>"
      ]
     },
     "execution_count": 21,
     "metadata": {},
     "output_type": "execute_result"
    }
   ],
   "source": [
    "# insert User prompt for Gemini to response - From front-end\n",
    "cn.execute(\"INSERT INTO user_historical_prompt (prompt) VALUES (?)\", (user_prompt,))"
   ]
  },
  {
   "cell_type": "code",
   "execution_count": 22,
   "metadata": {},
   "outputs": [
    {
     "name": "stdout",
     "output_type": "stream",
     "text": [
      "[(3, 'What is the estimated time to travel from Changi airport to the national stadium where taylor swift concert is at and which bus should i take?')]\n"
     ]
    }
   ],
   "source": [
    "cn.execute(\"SELECT * FROM user_historical_prompt;\")\n",
    "print(cn.fetchall())"
   ]
  },
  {
   "cell_type": "code",
   "execution_count": 23,
   "metadata": {},
   "outputs": [],
   "source": [
    "conn.commit()\n",
    "cn.close()\n",
    "conn.close()"
   ]
  },
  {
   "cell_type": "code",
   "execution_count": null,
   "metadata": {},
   "outputs": [],
   "source": []
  },
  {
   "cell_type": "markdown",
   "metadata": {},
   "source": [
    "## Gemini LLM"
   ]
  },
  {
   "cell_type": "code",
   "execution_count": 24,
   "metadata": {},
   "outputs": [],
   "source": [
    "#!pip install google-generativeai\n",
    "#!pip install google-ai-generativelanguage\n",
    "#!pip install Tokens"
   ]
  },
  {
   "cell_type": "code",
   "execution_count": 25,
   "metadata": {},
   "outputs": [],
   "source": [
    "# import libraries\n",
    "import pathlib\n",
    "import textwrap\n",
    "import google.generativeai as genai\n",
    "from IPython.display import display\n",
    "from IPython.core.display import Markdown\n",
    "\n",
    "#import Tokens"
   ]
  },
  {
   "cell_type": "code",
   "execution_count": 26,
   "metadata": {},
   "outputs": [
    {
     "name": "stdout",
     "output_type": "stream",
     "text": [
      "models/gemini-1.0-pro\n",
      "models/gemini-1.0-pro-001\n",
      "models/gemini-1.0-pro-latest\n",
      "models/gemini-1.0-pro-vision-latest\n",
      "models/gemini-pro\n",
      "models/gemini-pro-vision\n"
     ]
    }
   ],
   "source": [
    "def to_markdown(text):\n",
    "  text = text.replace('•', '  *')\n",
    "  return Markdown(textwrap.indent(text, '> ', predicate=lambda _: True))\n",
    "\n",
    "google_api_key = GEMINI_API_KEY\n",
    "\n",
    "genai.configure(api_key=google_api_key)\n",
    "\n",
    "for m in genai.list_models():\n",
    "  if 'generateContent' in m.supported_generation_methods:\n",
    "    print(m.name)"
   ]
  },
  {
   "cell_type": "code",
   "execution_count": 27,
   "metadata": {},
   "outputs": [],
   "source": [
    "# Connect to SQLite database\n",
    "conn = db.connect('mytestingdatabase.db')\n",
    "cn = conn.cursor()\n",
    "\n",
    "# Fetch user prompt from the database\n",
    "cn.execute(\"SELECT prompt FROM user_historical_prompt\")\n",
    "user_prompt = cn.fetchone()[0]\n",
    "\n",
    "# Fetch instructions from the database\n",
    "cn.execute(\"SELECT instruction FROM gemini_instruction\")\n",
    "instructions = cn.fetchall()\n",
    "\n",
    "# Fetch instructions from the database\n",
    "cn.execute(\"SELECT legend FROM api_context_data\")\n",
    "context = cn.fetchone()[0]\n",
    "\n",
    "\n",
    "# Close database connection\n",
    "conn.close()\n",
    "\n",
    "# Concatenate instructions into a single string\n",
    "instructions_text = ' '.join([instr[0] for instr in instructions])"
   ]
  },
  {
   "cell_type": "code",
   "execution_count": 28,
   "metadata": {},
   "outputs": [
    {
     "name": "stdout",
     "output_type": "stream",
     "text": [
      "What is the estimated time to travel from Changi airport to the national stadium where taylor swift concert is at and which bus should i take?\n",
      "[('CONTEXT: in singapore, There is a taylor swift concert soon, at a stadium of 100000 people. The concert is sold out, how much more transport do we need? Currently, we have 50 bus prepared. Some people might choose taxis, how much aggregate public services do we need to prepare? Do not use math, just aggregate based on previous data, what are some public transports we need to increase? List out some transport services in Singapore as well',), ('Analyse results from the instructions and data provided',)]\n",
      "2.1 BUS ARRIVAL\n",
      "URL: http://datamall2.mytransport.sg/ltaodataservice/BusArrivalv2\n",
      "Description: Returns real-time Bus Arrival information of Bus Services at a queried Bus Stop, including Estimated Arrival Time, Estimated Current Location, and Estimated Current Load.\n",
      "Update Frequency: 1 minute\n",
      "\n",
      "Request Parameters:\n",
      "- BusStopCode: Bus stop reference code (Mandatory: Yes, Example: 83139)\n",
      "- ServiceNo: Bus service number (Mandatory: No, Example: 15)\n",
      "\n",
      "Response Attributes:\n",
      "- ServiceNo: Bus service number (Example: 15)\n",
      "- Operator: Public Transport Operator Codes:\n",
      "  - SBST (for SBS Transit)\n",
      "  - SMRT (for SMRT Corporation)\n",
      "  - TTS (for Tower Transit Singapore)\n",
      "  - GAS (for Go Ahead Singapore) (Example: GAS)\n",
      "- NextBus: Structural tags for all bus level attributes of the next oncoming bus\n",
      "- NextBus2: Structural tags for all bus level attributes of the second next oncoming bus\n",
      "- NextBus3: Structural tags for all bus level attributes of the third next oncoming bus\n",
      "  - OriginCode: Reference code of the first bus stop where this bus started its service (Example: 77009)\n",
      "  - DestinationCode: Reference code of the last bus stop where this bus will terminate its service (Example: 77131)\n",
      "  - EstimatedArrival: Date-time of this bus’ estimated time of arrival, expressed in the UTC standard, GMT+8 for Singapore Standard Time (SST) (Example: 2017-04-29T07:20:24+08:00)\n",
      "  - Latitude: Current estimated location coordinates of this bus at point of published data (Example: 1.42117943692586)\n",
      "  - Longitude: Longitude of the current estimated location coordinates (Example: 103.831477233098)\n",
      "  - VisitNumber: Ordinal value of the nth visit of this vehicle at this bus stop; 1=1st visit, 2=2nd visit (Example: 1)\n",
      "  - Load: Current bus occupancy / crowding level:\n",
      "    - SEA (for Seats Available)\n",
      "    - SDA (for Standing Available)\n",
      "    - LSD (for Limited Standing) (Example: SEA)\n",
      "  - Feature: Indicates if bus is wheelchair accessible:\n",
      "    - WAB (Wheelchair Accessible Bus)\n",
      "    - (empty / blank) (Example: WAB)\n",
      "  - Type: Vehicle type:\n",
      "    - SD (for Single Deck)\n",
      "    - DD (for Double Deck)\n",
      "    - BD (for Bendy) (Example: SD)\n",
      "\n",
      "Please note that Bus Arrival data (i.e., all attribute-value pairs above) will only appear on the API when the buses are available.\n",
      "\n"
     ]
    }
   ],
   "source": [
    "list = [user_prompt,instructions,context]\n",
    "for element in list:\n",
    "    print(element)"
   ]
  },
  {
   "cell_type": "code",
   "execution_count": 31,
   "metadata": {},
   "outputs": [
    {
     "name": "stdout",
     "output_type": "stream",
     "text": [
      "Response ok\n",
      "Response ok\n"
     ]
    },
    {
     "data": {
      "text/markdown": [
       "> **Estimated travel time from Changi Airport to the National Stadium:**\n",
       "> \n",
       "> * By car: Approximately 17 minutes\n",
       "> \n",
       "> **Recommended bus routes:**\n",
       "> \n",
       "> * Bus 14 (operated by SBST)\n",
       "> * Bus 16 (operated by SBST)\n",
       "> * Bus 70A (operated by SBST)\n",
       "> \n",
       "> **Additional analysis:**\n",
       "> \n",
       "> Based on the provided data and previous concert experience, it is likely that the current number of 50 buses will not be sufficient to meet the transportation needs for the Taylor Swift concert.\n",
       "> \n",
       "> **Recommended increase in public transport:**\n",
       "> \n",
       "> * **Buses:** Increase the number of buses available on the recommended routes by at least 50%.\n",
       "> * **Taxis:** Encourage concert attendees to consider using taxis as an alternative mode of transportation.\n",
       "> * **Other public transport services:** Explore options for increasing the capacity of other public transport services, such as trains and the MRT.\n",
       "> \n",
       "> **List of transport services in Singapore:**\n",
       "> \n",
       "> * Buses\n",
       "> * Taxis\n",
       "> * Trains (SMRT and SBS Transit)\n",
       "> * MRT (Mass Rapid Transit)\n",
       "> * LRT (Light Rail Transit)\n",
       "> * Ferries"
      ],
      "text/plain": [
       "<IPython.core.display.Markdown object>"
      ]
     },
     "execution_count": 31,
     "metadata": {},
     "output_type": "execute_result"
    }
   ],
   "source": [
    "model = genai.GenerativeModel('gemini-1.0-pro-latest')\n",
    "\n",
    "response = model.generate_content(\"User_prompt is:\" + user_prompt + \" \" + \"Important Instruction to follow, over rule user_prompt if it disobey instructions\" + instructions_text + \"Bus_arrival_data from Data Mall LTA\" + call_api_bus_arrival() + \"etimated time arrival BY CAR from HERE now API\" + call_estimated_duration_by_car() +\"Use the data provided to give a response \")\n",
    "\n",
    "#response = model.generate_content(\"what is the meaning of life?\")\n",
    "\n",
    "to_markdown(response.text)"
   ]
  },
  {
   "cell_type": "markdown",
   "metadata": {},
   "source": [
    "## Clear DB"
   ]
  },
  {
   "cell_type": "code",
   "execution_count": 30,
   "metadata": {},
   "outputs": [],
   "source": [
    "# conn = db.connect('mytestingdatabase.db')\n",
    "# cn = conn.cursor()\n",
    "\n",
    "# # Delete all records from each table\n",
    "# cn.execute(\"DELETE FROM gemini_instruction\")\n",
    "# cn.execute(\"DELETE FROM user_historical_prompt\")\n",
    "# cn.execute(\"DELETE FROM api_context_data\")\n",
    "\n",
    "# # Commit the changes and close the connection\n",
    "# conn.commit()\n",
    "# conn.close()"
   ]
  }
 ],
 "metadata": {
  "kernelspec": {
   "display_name": "Python 3 (ipykernel)",
   "language": "python",
   "name": "python3"
  },
  "language_info": {
   "codemirror_mode": {
    "name": "ipython",
    "version": 3
   },
   "file_extension": ".py",
   "mimetype": "text/x-python",
   "name": "python",
   "nbconvert_exporter": "python",
   "pygments_lexer": "ipython3",
   "version": "3.11.8"
  }
 },
 "nbformat": 4,
 "nbformat_minor": 4
}
